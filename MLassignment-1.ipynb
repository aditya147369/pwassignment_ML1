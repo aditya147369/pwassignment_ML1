{
 "cells": [
  {
   "cell_type": "markdown",
   "id": "01409450-5680-4b4a-9e31-31dedf97af12",
   "metadata": {},
   "source": [
    "Q1- Explain the following with an example\n",
    "1) Artificial Intelligence\n",
    "2) Machine Learning\n",
    "3) Deep Learning"
   ]
  },
  {
   "cell_type": "markdown",
   "id": "9bfcd4f7-545a-4c60-855a-c61ebadde49e",
   "metadata": {},
   "source": [
    "1] AI - AI is like giving a computer a brain to think and make decisions like a human imagine you have a robot that can understand your voice commands, answer questions, and even play chess with you. Thats what AI does It's all about creating smart systems that can perform tasks without needing constant human inputs\n",
    "\n",
    "Example - Siri, Alexa, and Google Assistant, These are assistants can perform a variety of tasks such as setting reminders, playing music, answering questions, and controlling smart home devices. They use AI to understand and respond to natural language commands, and work accordingly.\n",
    "\n",
    "2] Machine learning - It is a part of AI where we teach computers to learn from data. Think of it like training a dog, at first the dog doesn’t know any tricks, but with enough practice and rewards, it learns to sit, stay, and roll over. Similarly, we give a computer lots of datas, and it starts to recognize patterns and make predictions. For instsance, if you show an ML model thousands of pictures of cats and dogs, it can eventually tell whether a new picture is of a cat or a dog.\n",
    "\n",
    "Example - Gmails Spam Filter: Over time, gmail has become very good at filtering out spam emails. This is because it uses machine learning. By analyzing thousands of spam and non-spam emails, it learns to recognize patterns that diffrentiates spam from important emails. When you mark an email as spam, you're helping to train the model to get even better.\n",
    "\n",
    "3] Deep learning - It is a special kind of machine learning, but it’s more advanced. Imagine the human brain, with its network of neurons. Deep learning tries to mimic that brain structure with layers of artificial neurons. These layers help the computer understand really complex patterns. For example, with deep learning, your smartphone can recognize your face, filter spam emails, and even translate languages in real-time,\n",
    "\n",
    "Example - Self-Driving Cars by Tesla: Teslas autonomous vehicles use deep learning to understand and navigate the environment. The cars are equipped with numerous sensors and cameras that collect data about the surroundings. Deep learning algorithms process this data to recognize objects like other vehicles, humans, traffic signs, and lane markings. This enables the car to make decisions in real-time, such as stopping at red lights, changing lanes, and avoiding obstacles."
   ]
  },
  {
   "cell_type": "markdown",
   "id": "0db91646-90ac-48cf-a8f9-81e924b80a0c",
   "metadata": {},
   "source": [
    "Q2 - What is supervised learninig, List some examples of supervised learning."
   ]
  },
  {
   "cell_type": "markdown",
   "id": "9de0fb6d-f468-4724-89fc-937a9a13c89d",
   "metadata": {},
   "source": [
    "Ans - Supervised learning is a type of machine learning where the algorithm is trained on labeled data. This means that each training data or independent variable is paired with an output or dependent variable. The goal is for the model to learn patterns from inputs to outputs so it can predict the output for new, unseen data which is test data.\n",
    "\n",
    "Examples - 1] Spam detection - Email spam filtering systems classify emails as spam or not spam based on features extracted from the email content. The training data consists of emails labeled as spam or not spam.\n",
    "\n",
    "2] House price prediction - Predicting the price of a house based on features such as size, location, and number of rooms. The model is trained on historical data where each house is labeled with its sales price.\n",
    "\n",
    "3] Medical diagnosis -  Diagnosing diseases from patients historical data. For instance, classifying MRI scans as either cancer or no cancer. The training data includes scans with corresponding labels."
   ]
  },
  {
   "cell_type": "markdown",
   "id": "5bb0a4cd-a44b-4a5a-9d8d-7752ef9dd14c",
   "metadata": {},
   "source": [
    "Q3 - What is unsupervised learning? List some examples of unsupervised learning?"
   ]
  },
  {
   "cell_type": "markdown",
   "id": "f1e11a7c-7ab7-4573-a410-a87a735ac4cb",
   "metadata": {},
   "source": [
    "Ans - Unsupervised learning is a type of machine learning where the algorithm is given data without any explicit target variable. The goal is to make machine discover patterns, structures, or relationships within the data. Since there are no predefined labels, the model tries to learn the underlying structure directly from the data itself and makes clusters or group them.\n",
    "\n",
    "Examples - 1]  Customer segmentation - In marketing, companies often segment their customers into different groups based on purchasing behavior, demographics, etc clustering algorithms like K-means can group customers with similar behaviors together, helping businesses target their marketing strategies effectively, they make groups like whi earns more but spends less, who earns less but spends more etc based of that store can have various discount for these types of customers.\n",
    "\n",
    "2] Fraud detection - Detecting unusual patterns in transaction data to identify potential fraud activities. Anomaly detection algorithms can flag transactions that don't fit the normal pattern without needing labeled examples of fraud."
   ]
  },
  {
   "cell_type": "markdown",
   "id": "8c3b8e48-311f-4c19-a15d-9f9dbb8d0957",
   "metadata": {},
   "source": [
    "Q4 - \"What is the difference between AI, ML, DL, and DS?\""
   ]
  },
  {
   "cell_type": "markdown",
   "id": "25510b21-6840-4927-b478-feb48123a265",
   "metadata": {},
   "source": [
    "Ans - AI - AI is the broadest concept. It refers to the development of computer systems that can perform tasks typically requiring human like intelligence. These tasks include reasoning, learning, problem-solving, understanding natural language, and perception.\n",
    "\n",
    "Example: Virtual assistants like Siri or Alexa, which can perform a range of tasks based on user commands.\n",
    "\n",
    "Machine Learning - ML is a subset of AI. It focuses on the idea that systems can learn from data, identify patterns, and make decisions with less human intervention. ML involves creating algorithms that allow computers to learn from and make predictions or decisions based on data.\n",
    "\n",
    "Example: Spam filters in email systems that learn to identify and separate spam emails based on data from past emails.\n",
    "\n",
    "Deep Learning - DL is a subset of ML. It involves neural networks with many layers that can learn and make decisions on their own by processing vast amounts of data. DL is particularly good at identifying patterns in unstructured data like images, audio, and text.\n",
    "\n",
    "Example: Image recognition systems that can identify objects, people, or activities in pictures and videos.\n",
    "\n",
    "Data Science - Data Science is a field that uses scientific methods, processes, algorithms, and systems to extract knowledge and insights from data in various forms, both structured and unstructured. It combines aspects of statistics, computer science, and domain knowledge to analyze and interpret complex data and make predictions or decisions business realted.\n",
    "\n",
    "Example: Analyzing customer data to predict purchasing behavior and improve marketing strategies."
   ]
  },
  {
   "cell_type": "markdown",
   "id": "19bcb2a7-89e6-4c38-a81e-76cc3f7e53e4",
   "metadata": {},
   "source": [
    "Q5 - What are the main differences between supervised, unsupervised, and semi-supervised learning?"
   ]
  },
  {
   "cell_type": "markdown",
   "id": "32af1d19-9c40-4df2-a0f7-4745b9ba4ee8",
   "metadata": {},
   "source": [
    "Ans - 1] Supervised Learning: In supervised learning, the algorithm is trained on a labeled dataset, where each input is paired with its corresponding output or target variable. The algorithm learns from examples with known outcomes and aims to predict the correct output for new, unseen data.\n",
    "Example: Classifying emails as spam or not based on historical data of mails.\n",
    "\n",
    "2] Unsupervised Learning: Unsupervised learning algorithms are trained on unlabeled data, meaning there are no corresponding output labels. The algorithm explores the structure or patterns within the data without explicit guidance and aims to find hidden relationships,gropus or clusters.\n",
    "Example: Grouping customers based on similar purchasing behavior without any predefined categories.\n",
    "\n",
    "3] Semi-Supervised Learning: Semi-supervised learning algorithms are trained on a combination of labeled and unlabeled data, it uses both supervised and unsupervised techniques. The algorithm leverages both labeled and unlabeled data to improve learning accuracy, typically by using the labeled data to guide learning from the unlabeled data.\n",
    "Example: Using a small labeled dataset of images along with a large unlabeled dataset to improve image recognition accuracy."
   ]
  },
  {
   "cell_type": "markdown",
   "id": "77d184ca-e0f7-496a-b2c8-289c6f2e930b",
   "metadata": {},
   "source": [
    "Q6 - What is train, test, and validation split? Explain the importance of each term?"
   ]
  },
  {
   "cell_type": "markdown",
   "id": "bb10a7b8-c473-455b-ae07-064c26b3e4c2",
   "metadata": {},
   "source": [
    "Ans - 1] Training set: The training set is a subset of the entire dataset used to train the machine learning model. It contains input data and their corresponding output labels (in supervised learning), it is usyally 70-90% of the dataset. The training set is important because it's where the model learns to make predictions. By exposing the model to labeled examples during training, it learns the underlying patterns and relationships in the data, allowing it to generalize and make accurate predictions on new, unseen data.\n",
    "\n",
    "2] Test Set: The test set is another subset of the dataset thats kept separate from the training set. It is used to evaluate the final performance of the trained model. The test set provides an unbiased result of how well the model performs on unseen data. By evaluating the model on data it hasn't seen before, we get a realistic measure of its generalization ability and can identify any issues with overfitting i.e. the model memorizing the training data.\n",
    "\n",
    "3] Validation Set: The validation set is a portion of the dataset used to tuning the model's hyperparameters and assess its performance during training. The validation set helps in optimizing the model's performance without overfitting. By evaluating the model on a separate dataset during training, we can make adjustments to hyperparameters e.g. learning rate, regularization strength to improve performance and prevent overfitting. It serves as a checkpoint to ensure that the model is learning meaningful patterns in the data."
   ]
  },
  {
   "cell_type": "markdown",
   "id": "f6469dc2-9b1a-4591-aba7-985fbf127436",
   "metadata": {},
   "source": [
    "Q7 - How can unsupervised learning be used in anomaly detection?"
   ]
  },
  {
   "cell_type": "markdown",
   "id": "ea9f56ff-1ae0-46e8-9b69-4d0eac0b0723",
   "metadata": {},
   "source": [
    "Ans - Unsupervised learning can be used in anomaly detection by identifying patterns in data and flagging instances that deviate significantly from those patterns, working:\n",
    "\n",
    "1] Clustering: Unsupervised learning algorithms like K-Means or DBSCAN can group similar data points together into clusters. In anomaly detection, data points that do not belong to any cluster or form a cluster of their own can be considered anomalies.\n",
    "\n",
    "2] Density Estimation: Algorithms such as Gaussian Mixture Models (GMM) estimate the underlying probability distribution of the data. Anomalies are then identified as data points with low probability under the estimated distribution.\n",
    "\n",
    "3] Dimensionality Reduction: Techniques like PCA or Autoencoders can reduce the dimensionality of the data while preserving most of its variance. Anomalies can be detected by analyzing the residual errors or reconstruction errors after dimensionality reduction."
   ]
  },
  {
   "cell_type": "markdown",
   "id": "b28b055e-abaf-4a36-b18c-2cd6342de89e",
   "metadata": {},
   "source": [
    "Q8 - List down some commonly used supervised learning algorithms and unsupervised learning\n",
    "algorithms."
   ]
  },
  {
   "cell_type": "markdown",
   "id": "a128adc5-28c3-4a6b-9be9-81b4adb12faa",
   "metadata": {},
   "source": [
    "Supervised learning algo. - \n",
    "1] Linear Regression: Used for predicting continuous numeric values based on input features, it models a linear relationship between a dependent variable and one or more independent variables by fitting a linear equation.\n",
    "\n",
    "2] Logistic Regression: Used for binary classification tasks, where the outputs probability is between 0 and 1.\n",
    "\n",
    "3] Decision Trees: Builds a tree like structure to make decisions based on input features, it can be used for both classification and regression tasks.\n",
    "\n",
    "4] Support Vector Machines (SVM): Finds the optimal hyperplane that best separates classes in high-dimensional space.\n",
    "\n",
    "Unsupervised learning algo. - \n",
    "1] K-Means Clustering: Divides data into clusters/groups based on similarities.\n",
    "\n",
    "2] Hierarchical clustering: Builds a hierarchy of clusters by recursively merging or splitting them.\n",
    "\n",
    "3] Principal Component Analysis (PCA): Reduces the dimensionality of the data while preserving most of its variance.\n",
    "\n",
    "4] DBSCAN is a clustering algorithm that groups together data points based on their density in the feature space, it identifies core points that have a minimum number of neighboring points within a specified radius. Points that are close to core points but dont meet the density criterion are labeled as border points. Points that are neither core nor border points and are isolated are considered noise points. DBSCAN is useful for finding clusters of varying shapes and sizes in datasets with noise and outliers, without requiring the number of clusters to be specified."
   ]
  },
  {
   "cell_type": "code",
   "execution_count": null,
   "id": "b525c112-b2fd-47ff-93be-47bdcc1af448",
   "metadata": {},
   "outputs": [],
   "source": []
  }
 ],
 "metadata": {
  "kernelspec": {
   "display_name": "Python 3 (ipykernel)",
   "language": "python",
   "name": "python3"
  },
  "language_info": {
   "codemirror_mode": {
    "name": "ipython",
    "version": 3
   },
   "file_extension": ".py",
   "mimetype": "text/x-python",
   "name": "python",
   "nbconvert_exporter": "python",
   "pygments_lexer": "ipython3",
   "version": "3.10.8"
  }
 },
 "nbformat": 4,
 "nbformat_minor": 5
}
